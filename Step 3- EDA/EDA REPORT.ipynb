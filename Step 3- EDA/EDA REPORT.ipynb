{
 "cells": [
  {
   "cell_type": "markdown",
   "id": "2536074d",
   "metadata": {},
   "source": [
    "# EDA REPORTS"
   ]
  },
  {
   "cell_type": "markdown",
   "id": "20bb093c",
   "metadata": {},
   "source": [
    "# Pandas profiling"
   ]
  },
  {
   "cell_type": "code",
   "execution_count": 1,
   "id": "21cb9478",
   "metadata": {},
   "outputs": [],
   "source": [
    "#Applicable to all dataset\n",
    "#dataset above 15gb ---take sample data and do pandas profiling"
   ]
  },
  {
   "cell_type": "code",
   "execution_count": 2,
   "id": "a455d247",
   "metadata": {},
   "outputs": [],
   "source": [
    "#!pip install pandas-profiling\n",
    "import pandas as pd\n",
    "import numpy as np\n",
    "from pandas_profiling import ProfileReport"
   ]
  },
  {
   "cell_type": "code",
   "execution_count": 3,
   "id": "4ea918ff",
   "metadata": {},
   "outputs": [
    {
     "data": {
      "text/html": [
       "<div>\n",
       "<style scoped>\n",
       "    .dataframe tbody tr th:only-of-type {\n",
       "        vertical-align: middle;\n",
       "    }\n",
       "\n",
       "    .dataframe tbody tr th {\n",
       "        vertical-align: top;\n",
       "    }\n",
       "\n",
       "    .dataframe thead th {\n",
       "        text-align: right;\n",
       "    }\n",
       "</style>\n",
       "<table border=\"1\" class=\"dataframe\">\n",
       "  <thead>\n",
       "    <tr style=\"text-align: right;\">\n",
       "      <th></th>\n",
       "      <th>PassengerId</th>\n",
       "      <th>Survived</th>\n",
       "      <th>Pclass</th>\n",
       "      <th>Name</th>\n",
       "      <th>Sex</th>\n",
       "      <th>Age</th>\n",
       "      <th>SibSp</th>\n",
       "      <th>Parch</th>\n",
       "      <th>Ticket</th>\n",
       "      <th>Fare</th>\n",
       "      <th>Cabin</th>\n",
       "      <th>Embarked</th>\n",
       "    </tr>\n",
       "  </thead>\n",
       "  <tbody>\n",
       "    <tr>\n",
       "      <th>0</th>\n",
       "      <td>1</td>\n",
       "      <td>0</td>\n",
       "      <td>3</td>\n",
       "      <td>Braund, Mr. Owen Harris</td>\n",
       "      <td>male</td>\n",
       "      <td>22.0</td>\n",
       "      <td>1</td>\n",
       "      <td>0</td>\n",
       "      <td>A/5 21171</td>\n",
       "      <td>7.2500</td>\n",
       "      <td>NaN</td>\n",
       "      <td>S</td>\n",
       "    </tr>\n",
       "    <tr>\n",
       "      <th>1</th>\n",
       "      <td>2</td>\n",
       "      <td>1</td>\n",
       "      <td>1</td>\n",
       "      <td>Cumings, Mrs. John Bradley (Florence Briggs Th...</td>\n",
       "      <td>female</td>\n",
       "      <td>38.0</td>\n",
       "      <td>1</td>\n",
       "      <td>0</td>\n",
       "      <td>PC 17599</td>\n",
       "      <td>71.2833</td>\n",
       "      <td>C85</td>\n",
       "      <td>C</td>\n",
       "    </tr>\n",
       "    <tr>\n",
       "      <th>2</th>\n",
       "      <td>3</td>\n",
       "      <td>1</td>\n",
       "      <td>3</td>\n",
       "      <td>Heikkinen, Miss. Laina</td>\n",
       "      <td>female</td>\n",
       "      <td>26.0</td>\n",
       "      <td>0</td>\n",
       "      <td>0</td>\n",
       "      <td>STON/O2. 3101282</td>\n",
       "      <td>7.9250</td>\n",
       "      <td>NaN</td>\n",
       "      <td>S</td>\n",
       "    </tr>\n",
       "    <tr>\n",
       "      <th>3</th>\n",
       "      <td>4</td>\n",
       "      <td>1</td>\n",
       "      <td>1</td>\n",
       "      <td>Futrelle, Mrs. Jacques Heath (Lily May Peel)</td>\n",
       "      <td>female</td>\n",
       "      <td>35.0</td>\n",
       "      <td>1</td>\n",
       "      <td>0</td>\n",
       "      <td>113803</td>\n",
       "      <td>53.1000</td>\n",
       "      <td>C123</td>\n",
       "      <td>S</td>\n",
       "    </tr>\n",
       "    <tr>\n",
       "      <th>4</th>\n",
       "      <td>5</td>\n",
       "      <td>0</td>\n",
       "      <td>3</td>\n",
       "      <td>Allen, Mr. William Henry</td>\n",
       "      <td>male</td>\n",
       "      <td>35.0</td>\n",
       "      <td>0</td>\n",
       "      <td>0</td>\n",
       "      <td>373450</td>\n",
       "      <td>8.0500</td>\n",
       "      <td>NaN</td>\n",
       "      <td>S</td>\n",
       "    </tr>\n",
       "    <tr>\n",
       "      <th>...</th>\n",
       "      <td>...</td>\n",
       "      <td>...</td>\n",
       "      <td>...</td>\n",
       "      <td>...</td>\n",
       "      <td>...</td>\n",
       "      <td>...</td>\n",
       "      <td>...</td>\n",
       "      <td>...</td>\n",
       "      <td>...</td>\n",
       "      <td>...</td>\n",
       "      <td>...</td>\n",
       "      <td>...</td>\n",
       "    </tr>\n",
       "    <tr>\n",
       "      <th>886</th>\n",
       "      <td>887</td>\n",
       "      <td>0</td>\n",
       "      <td>2</td>\n",
       "      <td>Montvila, Rev. Juozas</td>\n",
       "      <td>male</td>\n",
       "      <td>27.0</td>\n",
       "      <td>0</td>\n",
       "      <td>0</td>\n",
       "      <td>211536</td>\n",
       "      <td>13.0000</td>\n",
       "      <td>NaN</td>\n",
       "      <td>S</td>\n",
       "    </tr>\n",
       "    <tr>\n",
       "      <th>887</th>\n",
       "      <td>888</td>\n",
       "      <td>1</td>\n",
       "      <td>1</td>\n",
       "      <td>Graham, Miss. Margaret Edith</td>\n",
       "      <td>female</td>\n",
       "      <td>19.0</td>\n",
       "      <td>0</td>\n",
       "      <td>0</td>\n",
       "      <td>112053</td>\n",
       "      <td>30.0000</td>\n",
       "      <td>B42</td>\n",
       "      <td>S</td>\n",
       "    </tr>\n",
       "    <tr>\n",
       "      <th>888</th>\n",
       "      <td>889</td>\n",
       "      <td>0</td>\n",
       "      <td>3</td>\n",
       "      <td>Johnston, Miss. Catherine Helen \"Carrie\"</td>\n",
       "      <td>female</td>\n",
       "      <td>NaN</td>\n",
       "      <td>1</td>\n",
       "      <td>2</td>\n",
       "      <td>W./C. 6607</td>\n",
       "      <td>23.4500</td>\n",
       "      <td>NaN</td>\n",
       "      <td>S</td>\n",
       "    </tr>\n",
       "    <tr>\n",
       "      <th>889</th>\n",
       "      <td>890</td>\n",
       "      <td>1</td>\n",
       "      <td>1</td>\n",
       "      <td>Behr, Mr. Karl Howell</td>\n",
       "      <td>male</td>\n",
       "      <td>26.0</td>\n",
       "      <td>0</td>\n",
       "      <td>0</td>\n",
       "      <td>111369</td>\n",
       "      <td>30.0000</td>\n",
       "      <td>C148</td>\n",
       "      <td>C</td>\n",
       "    </tr>\n",
       "    <tr>\n",
       "      <th>890</th>\n",
       "      <td>891</td>\n",
       "      <td>0</td>\n",
       "      <td>3</td>\n",
       "      <td>Dooley, Mr. Patrick</td>\n",
       "      <td>male</td>\n",
       "      <td>32.0</td>\n",
       "      <td>0</td>\n",
       "      <td>0</td>\n",
       "      <td>370376</td>\n",
       "      <td>7.7500</td>\n",
       "      <td>NaN</td>\n",
       "      <td>Q</td>\n",
       "    </tr>\n",
       "  </tbody>\n",
       "</table>\n",
       "<p>891 rows × 12 columns</p>\n",
       "</div>"
      ],
      "text/plain": [
       "     PassengerId  Survived  Pclass  \\\n",
       "0              1         0       3   \n",
       "1              2         1       1   \n",
       "2              3         1       3   \n",
       "3              4         1       1   \n",
       "4              5         0       3   \n",
       "..           ...       ...     ...   \n",
       "886          887         0       2   \n",
       "887          888         1       1   \n",
       "888          889         0       3   \n",
       "889          890         1       1   \n",
       "890          891         0       3   \n",
       "\n",
       "                                                  Name     Sex   Age  SibSp  \\\n",
       "0                              Braund, Mr. Owen Harris    male  22.0      1   \n",
       "1    Cumings, Mrs. John Bradley (Florence Briggs Th...  female  38.0      1   \n",
       "2                               Heikkinen, Miss. Laina  female  26.0      0   \n",
       "3         Futrelle, Mrs. Jacques Heath (Lily May Peel)  female  35.0      1   \n",
       "4                             Allen, Mr. William Henry    male  35.0      0   \n",
       "..                                                 ...     ...   ...    ...   \n",
       "886                              Montvila, Rev. Juozas    male  27.0      0   \n",
       "887                       Graham, Miss. Margaret Edith  female  19.0      0   \n",
       "888           Johnston, Miss. Catherine Helen \"Carrie\"  female   NaN      1   \n",
       "889                              Behr, Mr. Karl Howell    male  26.0      0   \n",
       "890                                Dooley, Mr. Patrick    male  32.0      0   \n",
       "\n",
       "     Parch            Ticket     Fare Cabin Embarked  \n",
       "0        0         A/5 21171   7.2500   NaN        S  \n",
       "1        0          PC 17599  71.2833   C85        C  \n",
       "2        0  STON/O2. 3101282   7.9250   NaN        S  \n",
       "3        0            113803  53.1000  C123        S  \n",
       "4        0            373450   8.0500   NaN        S  \n",
       "..     ...               ...      ...   ...      ...  \n",
       "886      0            211536  13.0000   NaN        S  \n",
       "887      0            112053  30.0000   B42        S  \n",
       "888      2        W./C. 6607  23.4500   NaN        S  \n",
       "889      0            111369  30.0000  C148        C  \n",
       "890      0            370376   7.7500   NaN        Q  \n",
       "\n",
       "[891 rows x 12 columns]"
      ]
     },
     "execution_count": 3,
     "metadata": {},
     "output_type": "execute_result"
    }
   ],
   "source": [
    "df=pd.read_csv('data.csv')\n",
    "df"
   ]
  },
  {
   "cell_type": "code",
   "execution_count": 4,
   "id": "170c4673",
   "metadata": {},
   "outputs": [],
   "source": [
    "# To Create the Simple report quickly\n",
    "\n",
    "\n",
    "profile = ProfileReport(df)           "
   ]
  },
  {
   "cell_type": "raw",
   "id": "a164d595",
   "metadata": {},
   "source": [
    "profile = ProfileReport(df,title='Pandas Profiling Report', explorative=True,minimal=True) \n",
    " (df,)\n",
    "\n",
    ",'''title=\"Agriculture Data\",\n",
    "        dataset={\n",
    "        \"description\": \"This profiling report was generated for Analytics Vidhya Blog\",\n",
    "        \"copyright_holder\": \"Analytics Vidhya\",\n",
    "        \"copyright_year\": \"2021\",\n",
    "        \"url\": \"https://www.analyticsvidhya.com/blog/\",  },\n",
    "    variables={\n",
    "        \"descriptions\": {\n",
    "            \"State_Name\": \"Name of the state\",\n",
    "            \"District_Name\": \"Name of district\",\n",
    "            \"Crop_Year\": \"Year when it was seeded\",\n",
    "            \"Season\": \"Crop year\",\n",
    "            \"Crop\": \"Which crop was seeded?\",\n",
    "            \"Area\": \"How much area was allocated to the crop?\",\n",
    "            \"Production\": \"How much production?\", }}\n",
    "'''"
   ]
  },
  {
   "cell_type": "code",
   "execution_count": 5,
   "id": "f9a3cf9d",
   "metadata": {},
   "outputs": [
    {
     "data": {
      "application/vnd.jupyter.widget-view+json": {
       "model_id": "cdb16e4646184bf98d3aae6f3c5e46a8",
       "version_major": 2,
       "version_minor": 0
      },
      "text/plain": [
       "Summarize dataset:   0%|          | 0/5 [00:00<?, ?it/s]"
      ]
     },
     "metadata": {},
     "output_type": "display_data"
    },
    {
     "data": {
      "application/vnd.jupyter.widget-view+json": {
       "model_id": "297fb6eb09154d5a9db8f91f253d9884",
       "version_major": 2,
       "version_minor": 0
      },
      "text/plain": [
       "Generate report structure:   0%|          | 0/1 [00:00<?, ?it/s]"
      ]
     },
     "metadata": {},
     "output_type": "display_data"
    },
    {
     "data": {
      "application/vnd.jupyter.widget-view+json": {
       "model_id": "",
       "version_major": 2,
       "version_minor": 0
      },
      "text/plain": [
       "Render widgets:   0%|          | 0/1 [00:00<?, ?it/s]"
      ]
     },
     "metadata": {},
     "output_type": "display_data"
    },
    {
     "data": {
      "application/vnd.jupyter.widget-view+json": {
       "model_id": "1f206c34771c493386c1c867b8571acb",
       "version_major": 2,
       "version_minor": 0
      },
      "text/plain": [
       "VBox(children=(Tab(children=(Tab(children=(GridBox(children=(VBox(children=(GridspecLayout(children=(HTML(valu…"
      ]
     },
     "metadata": {},
     "output_type": "display_data"
    }
   ],
   "source": [
    "profile.to_widgets()"
   ]
  },
  {
   "cell_type": "code",
   "execution_count": 6,
   "id": "73ba6239",
   "metadata": {},
   "outputs": [
    {
     "data": {
      "application/vnd.jupyter.widget-view+json": {
       "model_id": "19797d26600e4075822bcc671167186e",
       "version_major": 2,
       "version_minor": 0
      },
      "text/plain": [
       "Render HTML:   0%|          | 0/1 [00:00<?, ?it/s]"
      ]
     },
     "metadata": {},
     "output_type": "display_data"
    },
    {
     "data": {
      "application/vnd.jupyter.widget-view+json": {
       "model_id": "c8eee80fc9004ca6a1bc9f327bffed88",
       "version_major": 2,
       "version_minor": 0
      },
      "text/plain": [
       "Export report to file:   0%|          | 0/1 [00:00<?, ?it/s]"
      ]
     },
     "metadata": {},
     "output_type": "display_data"
    }
   ],
   "source": [
    "profile.to_file(output_file=\"data_eda.html\")"
   ]
  },
  {
   "cell_type": "code",
   "execution_count": 12,
   "id": "3f8c6f8e",
   "metadata": {},
   "outputs": [],
   "source": [
    "# As a JSON string\n",
    "#json_data = profile.to_json()\n",
    "\n",
    "# As a file\n",
    "#profile.to_file(\"data_eda.json\")\n",
    "\n",
    "#profile.to_notebook_iframe()\n",
    "\n",
    "#profile.to_file(\"data_eda.pdf\")"
   ]
  },
  {
   "cell_type": "markdown",
   "id": "a9b386a9",
   "metadata": {},
   "source": [
    "# D Tale"
   ]
  },
  {
   "cell_type": "code",
   "execution_count": 20,
   "id": "1ea63eba",
   "metadata": {},
   "outputs": [],
   "source": [
    "#!pip install dtale\n",
    "import dtale"
   ]
  },
  {
   "cell_type": "code",
   "execution_count": 21,
   "id": "84769c98",
   "metadata": {
    "scrolled": true
   },
   "outputs": [
    {
     "name": "stderr",
     "output_type": "stream",
     "text": [
      "C:\\Users\\admin\\AppData\\Local\\Programs\\Python\\Python310\\lib\\site-packages\\dtale\\views.py:725: FutureWarning:\n",
      "\n",
      "['Cabin', 'Embarked'] did not aggregate successfully. If any error is raised this will raise in a future version of pandas. Drop these columns/ops to avoid this warning.\n",
      "\n"
     ]
    },
    {
     "data": {
      "text/html": [
       "\n",
       "        <iframe\n",
       "            width=\"100%\"\n",
       "            height=\"475\"\n",
       "            src=\"http://Mangesh:40000/dtale/iframe/2\"\n",
       "            frameborder=\"0\"\n",
       "            allowfullscreen\n",
       "            \n",
       "        ></iframe>\n",
       "        "
      ],
      "text/plain": [
       "<IPython.lib.display.IFrame at 0x11918461e70>"
      ]
     },
     "metadata": {},
     "output_type": "display_data"
    },
    {
     "data": {
      "text/plain": []
     },
     "execution_count": 21,
     "metadata": {},
     "output_type": "execute_result"
    }
   ],
   "source": [
    "dtale.show(df)"
   ]
  },
  {
   "cell_type": "markdown",
   "id": "622d0ffe",
   "metadata": {},
   "source": [
    "# Sweetviz"
   ]
  },
  {
   "cell_type": "code",
   "execution_count": 26,
   "id": "46ea8af9",
   "metadata": {},
   "outputs": [
    {
     "data": {
      "application/vnd.jupyter.widget-view+json": {
       "model_id": "ce8dd7f2516246fb9357787fd8142e71",
       "version_major": 2,
       "version_minor": 0
      },
      "text/plain": [
       "                                             |                                             | [  0%]   00:00 ->…"
      ]
     },
     "metadata": {},
     "output_type": "display_data"
    },
    {
     "name": "stdout",
     "output_type": "stream",
     "text": [
      "Report data_report_sv.html was generated! NOTEBOOK/COLAB USERS: the web browser MAY not pop up, regardless, the report IS saved in your notebook/colab files.\n"
     ]
    }
   ],
   "source": [
    "#!pip install sweetviz\n",
    "import sweetviz as sv\n",
    "\n",
    "report=sv.analyze(df)\n",
    "report.show_html('data_report_sv.html')"
   ]
  },
  {
   "cell_type": "markdown",
   "id": "30b49612",
   "metadata": {},
   "source": [
    "# Autoviz"
   ]
  },
  {
   "cell_type": "code",
   "execution_count": null,
   "id": "39abdd04",
   "metadata": {},
   "outputs": [
    {
     "name": "stdout",
     "output_type": "stream",
     "text": [
      "Shape of your Data Set loaded: (891, 12)\n",
      "#######################################################################################\n",
      "######################## C L A S S I F Y I N G  V A R I A B L E S  ####################\n",
      "#######################################################################################\n",
      "Classifying variables in data set...\n",
      "Data cleaning improvement suggestions. Complete them before proceeding to ML modeling.\n"
     ]
    },
    {
     "data": {
      "text/html": [
       "<style type=\"text/css\">\n",
       "#T_66f6b_row0_col0, #T_66f6b_row0_col4, #T_66f6b_row1_col0, #T_66f6b_row1_col4, #T_66f6b_row4_col2, #T_66f6b_row4_col3, #T_66f6b_row11_col5 {\n",
       "  background-color: #67000d;\n",
       "  color: #f1f1f1;\n",
       "  font-family: Segoe UI;\n",
       "}\n",
       "#T_66f6b_row0_col1, #T_66f6b_row0_col6, #T_66f6b_row1_col1, #T_66f6b_row1_col6, #T_66f6b_row2_col1, #T_66f6b_row2_col6, #T_66f6b_row3_col1, #T_66f6b_row3_col6, #T_66f6b_row4_col1, #T_66f6b_row4_col6, #T_66f6b_row5_col1, #T_66f6b_row5_col6, #T_66f6b_row6_col1, #T_66f6b_row6_col6, #T_66f6b_row7_col1, #T_66f6b_row7_col6, #T_66f6b_row8_col1, #T_66f6b_row8_col6, #T_66f6b_row9_col1, #T_66f6b_row9_col6, #T_66f6b_row10_col1, #T_66f6b_row10_col6, #T_66f6b_row11_col1, #T_66f6b_row11_col6 {\n",
       "  font-family: Segoe UI;\n",
       "}\n",
       "#T_66f6b_row0_col2, #T_66f6b_row0_col3, #T_66f6b_row0_col5, #T_66f6b_row1_col2, #T_66f6b_row1_col3, #T_66f6b_row1_col5, #T_66f6b_row2_col2, #T_66f6b_row2_col3, #T_66f6b_row2_col5, #T_66f6b_row3_col2, #T_66f6b_row3_col3, #T_66f6b_row3_col5, #T_66f6b_row4_col5, #T_66f6b_row5_col5, #T_66f6b_row6_col2, #T_66f6b_row6_col3, #T_66f6b_row6_col5, #T_66f6b_row7_col2, #T_66f6b_row7_col3, #T_66f6b_row7_col5, #T_66f6b_row8_col0, #T_66f6b_row8_col2, #T_66f6b_row8_col3, #T_66f6b_row8_col4, #T_66f6b_row8_col5, #T_66f6b_row9_col0, #T_66f6b_row9_col2, #T_66f6b_row9_col3, #T_66f6b_row9_col4, #T_66f6b_row10_col0, #T_66f6b_row10_col2, #T_66f6b_row10_col3, #T_66f6b_row10_col4, #T_66f6b_row10_col5, #T_66f6b_row11_col0, #T_66f6b_row11_col2, #T_66f6b_row11_col3, #T_66f6b_row11_col4 {\n",
       "  background-color: #fff5f0;\n",
       "  color: #000000;\n",
       "  font-family: Segoe UI;\n",
       "}\n",
       "#T_66f6b_row2_col0, #T_66f6b_row2_col4 {\n",
       "  background-color: #c7171c;\n",
       "  color: #f1f1f1;\n",
       "  font-family: Segoe UI;\n",
       "}\n",
       "#T_66f6b_row3_col0, #T_66f6b_row3_col4 {\n",
       "  background-color: #fcb398;\n",
       "  color: #000000;\n",
       "  font-family: Segoe UI;\n",
       "}\n",
       "#T_66f6b_row4_col0, #T_66f6b_row4_col4 {\n",
       "  background-color: #fdd5c4;\n",
       "  color: #000000;\n",
       "  font-family: Segoe UI;\n",
       "}\n",
       "#T_66f6b_row5_col0, #T_66f6b_row5_col4 {\n",
       "  background-color: #fee5d9;\n",
       "  color: #000000;\n",
       "  font-family: Segoe UI;\n",
       "}\n",
       "#T_66f6b_row5_col2, #T_66f6b_row5_col3 {\n",
       "  background-color: #fcb99f;\n",
       "  color: #000000;\n",
       "  font-family: Segoe UI;\n",
       "}\n",
       "#T_66f6b_row6_col0, #T_66f6b_row6_col4, #T_66f6b_row7_col0, #T_66f6b_row7_col4 {\n",
       "  background-color: #fff4ef;\n",
       "  color: #000000;\n",
       "  font-family: Segoe UI;\n",
       "}\n",
       "#T_66f6b_row9_col5 {\n",
       "  background-color: #fcbda4;\n",
       "  color: #000000;\n",
       "  font-family: Segoe UI;\n",
       "}\n",
       "</style>\n",
       "<table id=\"T_66f6b\">\n",
       "  <thead>\n",
       "    <tr>\n",
       "      <th class=\"blank level0\" >&nbsp;</th>\n",
       "      <th id=\"T_66f6b_level0_col0\" class=\"col_heading level0 col0\" >Nuniques</th>\n",
       "      <th id=\"T_66f6b_level0_col1\" class=\"col_heading level0 col1\" >dtype</th>\n",
       "      <th id=\"T_66f6b_level0_col2\" class=\"col_heading level0 col2\" >Nulls</th>\n",
       "      <th id=\"T_66f6b_level0_col3\" class=\"col_heading level0 col3\" >Nullpercent</th>\n",
       "      <th id=\"T_66f6b_level0_col4\" class=\"col_heading level0 col4\" >NuniquePercent</th>\n",
       "      <th id=\"T_66f6b_level0_col5\" class=\"col_heading level0 col5\" >Value counts Min</th>\n",
       "      <th id=\"T_66f6b_level0_col6\" class=\"col_heading level0 col6\" >Data cleaning improvement suggestions</th>\n",
       "    </tr>\n",
       "  </thead>\n",
       "  <tbody>\n",
       "    <tr>\n",
       "      <th id=\"T_66f6b_level0_row0\" class=\"row_heading level0 row0\" >PassengerId</th>\n",
       "      <td id=\"T_66f6b_row0_col0\" class=\"data row0 col0\" >891</td>\n",
       "      <td id=\"T_66f6b_row0_col1\" class=\"data row0 col1\" >int64</td>\n",
       "      <td id=\"T_66f6b_row0_col2\" class=\"data row0 col2\" >0</td>\n",
       "      <td id=\"T_66f6b_row0_col3\" class=\"data row0 col3\" >0.000000</td>\n",
       "      <td id=\"T_66f6b_row0_col4\" class=\"data row0 col4\" >100.000000</td>\n",
       "      <td id=\"T_66f6b_row0_col5\" class=\"data row0 col5\" >0</td>\n",
       "      <td id=\"T_66f6b_row0_col6\" class=\"data row0 col6\" >possible ID column: drop</td>\n",
       "    </tr>\n",
       "    <tr>\n",
       "      <th id=\"T_66f6b_level0_row1\" class=\"row_heading level0 row1\" >Name</th>\n",
       "      <td id=\"T_66f6b_row1_col0\" class=\"data row1 col0\" >891</td>\n",
       "      <td id=\"T_66f6b_row1_col1\" class=\"data row1 col1\" >object</td>\n",
       "      <td id=\"T_66f6b_row1_col2\" class=\"data row1 col2\" >0</td>\n",
       "      <td id=\"T_66f6b_row1_col3\" class=\"data row1 col3\" >0.000000</td>\n",
       "      <td id=\"T_66f6b_row1_col4\" class=\"data row1 col4\" >100.000000</td>\n",
       "      <td id=\"T_66f6b_row1_col5\" class=\"data row1 col5\" >1</td>\n",
       "      <td id=\"T_66f6b_row1_col6\" class=\"data row1 col6\" >combine rare categories, possible ID column: drop</td>\n",
       "    </tr>\n",
       "    <tr>\n",
       "      <th id=\"T_66f6b_level0_row2\" class=\"row_heading level0 row2\" >Ticket</th>\n",
       "      <td id=\"T_66f6b_row2_col0\" class=\"data row2 col0\" >681</td>\n",
       "      <td id=\"T_66f6b_row2_col1\" class=\"data row2 col1\" >object</td>\n",
       "      <td id=\"T_66f6b_row2_col2\" class=\"data row2 col2\" >0</td>\n",
       "      <td id=\"T_66f6b_row2_col3\" class=\"data row2 col3\" >0.000000</td>\n",
       "      <td id=\"T_66f6b_row2_col4\" class=\"data row2 col4\" >76.430976</td>\n",
       "      <td id=\"T_66f6b_row2_col5\" class=\"data row2 col5\" >1</td>\n",
       "      <td id=\"T_66f6b_row2_col6\" class=\"data row2 col6\" >combine rare categories</td>\n",
       "    </tr>\n",
       "    <tr>\n",
       "      <th id=\"T_66f6b_level0_row3\" class=\"row_heading level0 row3\" >Fare</th>\n",
       "      <td id=\"T_66f6b_row3_col0\" class=\"data row3 col0\" >248</td>\n",
       "      <td id=\"T_66f6b_row3_col1\" class=\"data row3 col1\" >float64</td>\n",
       "      <td id=\"T_66f6b_row3_col2\" class=\"data row3 col2\" >0</td>\n",
       "      <td id=\"T_66f6b_row3_col3\" class=\"data row3 col3\" >0.000000</td>\n",
       "      <td id=\"T_66f6b_row3_col4\" class=\"data row3 col4\" >27.833895</td>\n",
       "      <td id=\"T_66f6b_row3_col5\" class=\"data row3 col5\" >0</td>\n",
       "      <td id=\"T_66f6b_row3_col6\" class=\"data row3 col6\" >skewed: cap or drop outliers</td>\n",
       "    </tr>\n",
       "    <tr>\n",
       "      <th id=\"T_66f6b_level0_row4\" class=\"row_heading level0 row4\" >Cabin</th>\n",
       "      <td id=\"T_66f6b_row4_col0\" class=\"data row4 col0\" >147</td>\n",
       "      <td id=\"T_66f6b_row4_col1\" class=\"data row4 col1\" >object</td>\n",
       "      <td id=\"T_66f6b_row4_col2\" class=\"data row4 col2\" >687</td>\n",
       "      <td id=\"T_66f6b_row4_col3\" class=\"data row4 col3\" >77.104377</td>\n",
       "      <td id=\"T_66f6b_row4_col4\" class=\"data row4 col4\" >16.498316</td>\n",
       "      <td id=\"T_66f6b_row4_col5\" class=\"data row4 col5\" >1</td>\n",
       "      <td id=\"T_66f6b_row4_col6\" class=\"data row4 col6\" >combine rare categories, fill missing, fix mixed data types</td>\n",
       "    </tr>\n",
       "    <tr>\n",
       "      <th id=\"T_66f6b_level0_row5\" class=\"row_heading level0 row5\" >Age</th>\n",
       "      <td id=\"T_66f6b_row5_col0\" class=\"data row5 col0\" >88</td>\n",
       "      <td id=\"T_66f6b_row5_col1\" class=\"data row5 col1\" >float64</td>\n",
       "      <td id=\"T_66f6b_row5_col2\" class=\"data row5 col2\" >177</td>\n",
       "      <td id=\"T_66f6b_row5_col3\" class=\"data row5 col3\" >19.865320</td>\n",
       "      <td id=\"T_66f6b_row5_col4\" class=\"data row5 col4\" >9.876543</td>\n",
       "      <td id=\"T_66f6b_row5_col5\" class=\"data row5 col5\" >0</td>\n",
       "      <td id=\"T_66f6b_row5_col6\" class=\"data row5 col6\" >fill missing</td>\n",
       "    </tr>\n",
       "    <tr>\n",
       "      <th id=\"T_66f6b_level0_row6\" class=\"row_heading level0 row6\" >SibSp</th>\n",
       "      <td id=\"T_66f6b_row6_col0\" class=\"data row6 col0\" >7</td>\n",
       "      <td id=\"T_66f6b_row6_col1\" class=\"data row6 col1\" >int64</td>\n",
       "      <td id=\"T_66f6b_row6_col2\" class=\"data row6 col2\" >0</td>\n",
       "      <td id=\"T_66f6b_row6_col3\" class=\"data row6 col3\" >0.000000</td>\n",
       "      <td id=\"T_66f6b_row6_col4\" class=\"data row6 col4\" >0.785634</td>\n",
       "      <td id=\"T_66f6b_row6_col5\" class=\"data row6 col5\" >0</td>\n",
       "      <td id=\"T_66f6b_row6_col6\" class=\"data row6 col6\" ></td>\n",
       "    </tr>\n",
       "    <tr>\n",
       "      <th id=\"T_66f6b_level0_row7\" class=\"row_heading level0 row7\" >Parch</th>\n",
       "      <td id=\"T_66f6b_row7_col0\" class=\"data row7 col0\" >7</td>\n",
       "      <td id=\"T_66f6b_row7_col1\" class=\"data row7 col1\" >int64</td>\n",
       "      <td id=\"T_66f6b_row7_col2\" class=\"data row7 col2\" >0</td>\n",
       "      <td id=\"T_66f6b_row7_col3\" class=\"data row7 col3\" >0.000000</td>\n",
       "      <td id=\"T_66f6b_row7_col4\" class=\"data row7 col4\" >0.785634</td>\n",
       "      <td id=\"T_66f6b_row7_col5\" class=\"data row7 col5\" >0</td>\n",
       "      <td id=\"T_66f6b_row7_col6\" class=\"data row7 col6\" ></td>\n",
       "    </tr>\n",
       "    <tr>\n",
       "      <th id=\"T_66f6b_level0_row8\" class=\"row_heading level0 row8\" >Pclass</th>\n",
       "      <td id=\"T_66f6b_row8_col0\" class=\"data row8 col0\" >3</td>\n",
       "      <td id=\"T_66f6b_row8_col1\" class=\"data row8 col1\" >int64</td>\n",
       "      <td id=\"T_66f6b_row8_col2\" class=\"data row8 col2\" >0</td>\n",
       "      <td id=\"T_66f6b_row8_col3\" class=\"data row8 col3\" >0.000000</td>\n",
       "      <td id=\"T_66f6b_row8_col4\" class=\"data row8 col4\" >0.336700</td>\n",
       "      <td id=\"T_66f6b_row8_col5\" class=\"data row8 col5\" >0</td>\n",
       "      <td id=\"T_66f6b_row8_col6\" class=\"data row8 col6\" ></td>\n",
       "    </tr>\n",
       "    <tr>\n",
       "      <th id=\"T_66f6b_level0_row9\" class=\"row_heading level0 row9\" >Embarked</th>\n",
       "      <td id=\"T_66f6b_row9_col0\" class=\"data row9 col0\" >3</td>\n",
       "      <td id=\"T_66f6b_row9_col1\" class=\"data row9 col1\" >object</td>\n",
       "      <td id=\"T_66f6b_row9_col2\" class=\"data row9 col2\" >2</td>\n",
       "      <td id=\"T_66f6b_row9_col3\" class=\"data row9 col3\" >0.224467</td>\n",
       "      <td id=\"T_66f6b_row9_col4\" class=\"data row9 col4\" >0.336700</td>\n",
       "      <td id=\"T_66f6b_row9_col5\" class=\"data row9 col5\" >77</td>\n",
       "      <td id=\"T_66f6b_row9_col6\" class=\"data row9 col6\" >fill missing, fix mixed data types</td>\n",
       "    </tr>\n",
       "    <tr>\n",
       "      <th id=\"T_66f6b_level0_row10\" class=\"row_heading level0 row10\" >Survived</th>\n",
       "      <td id=\"T_66f6b_row10_col0\" class=\"data row10 col0\" >2</td>\n",
       "      <td id=\"T_66f6b_row10_col1\" class=\"data row10 col1\" >int64</td>\n",
       "      <td id=\"T_66f6b_row10_col2\" class=\"data row10 col2\" >0</td>\n",
       "      <td id=\"T_66f6b_row10_col3\" class=\"data row10 col3\" >0.000000</td>\n",
       "      <td id=\"T_66f6b_row10_col4\" class=\"data row10 col4\" >0.224467</td>\n",
       "      <td id=\"T_66f6b_row10_col5\" class=\"data row10 col5\" >0</td>\n",
       "      <td id=\"T_66f6b_row10_col6\" class=\"data row10 col6\" ></td>\n",
       "    </tr>\n",
       "    <tr>\n",
       "      <th id=\"T_66f6b_level0_row11\" class=\"row_heading level0 row11\" >Sex</th>\n",
       "      <td id=\"T_66f6b_row11_col0\" class=\"data row11 col0\" >2</td>\n",
       "      <td id=\"T_66f6b_row11_col1\" class=\"data row11 col1\" >object</td>\n",
       "      <td id=\"T_66f6b_row11_col2\" class=\"data row11 col2\" >0</td>\n",
       "      <td id=\"T_66f6b_row11_col3\" class=\"data row11 col3\" >0.000000</td>\n",
       "      <td id=\"T_66f6b_row11_col4\" class=\"data row11 col4\" >0.224467</td>\n",
       "      <td id=\"T_66f6b_row11_col5\" class=\"data row11 col5\" >314</td>\n",
       "      <td id=\"T_66f6b_row11_col6\" class=\"data row11 col6\" ></td>\n",
       "    </tr>\n",
       "  </tbody>\n",
       "</table>\n"
      ],
      "text/plain": [
       "<pandas.io.formats.style.Styler at 0x1191c23abc0>"
      ]
     },
     "metadata": {},
     "output_type": "display_data"
    },
    {
     "name": "stdout",
     "output_type": "stream",
     "text": [
      "    12 Predictors classified...\n",
      "        1 variables removed since they were ID or low-information variables\n",
      "        List of variables removed: ['PassengerId']\n",
      "Number of All Scatter Plots = 3\n"
     ]
    },
    {
     "name": "stderr",
     "output_type": "stream",
     "text": [
      "[nltk_data] Downloading collection 'popular'\n",
      "[nltk_data]    | \n",
      "[nltk_data]    | Downloading package cmudict to\n",
      "[nltk_data]    |     C:\\Users\\admin\\AppData\\Roaming\\nltk_data...\n",
      "[nltk_data]    |   Unzipping corpora\\cmudict.zip.\n",
      "[nltk_data]    | Downloading package gazetteers to\n",
      "[nltk_data]    |     C:\\Users\\admin\\AppData\\Roaming\\nltk_data...\n",
      "[nltk_data]    |   Unzipping corpora\\gazetteers.zip.\n",
      "[nltk_data]    | Downloading package genesis to\n",
      "[nltk_data]    |     C:\\Users\\admin\\AppData\\Roaming\\nltk_data...\n",
      "[nltk_data]    |   Unzipping corpora\\genesis.zip.\n",
      "[nltk_data]    | Downloading package gutenberg to\n",
      "[nltk_data]    |     C:\\Users\\admin\\AppData\\Roaming\\nltk_data...\n",
      "[nltk_data]    |   Unzipping corpora\\gutenberg.zip.\n",
      "[nltk_data]    | Downloading package inaugural to\n",
      "[nltk_data]    |     C:\\Users\\admin\\AppData\\Roaming\\nltk_data...\n",
      "[nltk_data]    |   Unzipping corpora\\inaugural.zip.\n",
      "[nltk_data]    | Downloading package movie_reviews to\n",
      "[nltk_data]    |     C:\\Users\\admin\\AppData\\Roaming\\nltk_data...\n",
      "[nltk_data]    |   Unzipping corpora\\movie_reviews.zip.\n",
      "[nltk_data]    | Downloading package names to\n",
      "[nltk_data]    |     C:\\Users\\admin\\AppData\\Roaming\\nltk_data...\n",
      "[nltk_data]    |   Unzipping corpora\\names.zip.\n",
      "[nltk_data]    | Downloading package shakespeare to\n",
      "[nltk_data]    |     C:\\Users\\admin\\AppData\\Roaming\\nltk_data...\n",
      "[nltk_data]    |   Unzipping corpora\\shakespeare.zip.\n",
      "[nltk_data]    | Downloading package stopwords to\n",
      "[nltk_data]    |     C:\\Users\\admin\\AppData\\Roaming\\nltk_data...\n",
      "[nltk_data]    |   Unzipping corpora\\stopwords.zip.\n",
      "[nltk_data]    | Downloading package treebank to\n",
      "[nltk_data]    |     C:\\Users\\admin\\AppData\\Roaming\\nltk_data...\n",
      "[nltk_data]    |   Unzipping corpora\\treebank.zip.\n",
      "[nltk_data]    | Downloading package twitter_samples to\n",
      "[nltk_data]    |     C:\\Users\\admin\\AppData\\Roaming\\nltk_data...\n",
      "[nltk_data]    |   Unzipping corpora\\twitter_samples.zip.\n",
      "[nltk_data]    | Downloading package omw to\n",
      "[nltk_data]    |     C:\\Users\\admin\\AppData\\Roaming\\nltk_data...\n",
      "[nltk_data]    | Downloading package omw-1.4 to\n",
      "[nltk_data]    |     C:\\Users\\admin\\AppData\\Roaming\\nltk_data...\n",
      "[nltk_data]    | Downloading package wordnet to\n",
      "[nltk_data]    |     C:\\Users\\admin\\AppData\\Roaming\\nltk_data...\n",
      "[nltk_data]    | Downloading package wordnet2021 to\n",
      "[nltk_data]    |     C:\\Users\\admin\\AppData\\Roaming\\nltk_data...\n"
     ]
    }
   ],
   "source": [
    "#pip install xlrd\n",
    "#pip install autoviz\n",
    "\n",
    "\n",
    "from autoviz.AutoViz_Class import AutoViz_Class\n",
    "\n",
    "#EDA using Autoviz\n",
    "autoviz = AutoViz_Class().AutoViz('data.csv')"
   ]
  },
  {
   "cell_type": "markdown",
   "id": "9453306e",
   "metadata": {},
   "source": [
    "# Dataprep"
   ]
  },
  {
   "cell_type": "code",
   "execution_count": null,
   "id": "a9546a9c",
   "metadata": {},
   "outputs": [],
   "source": [
    "#!pip install dataprep\n",
    "import dataprep"
   ]
  },
  {
   "cell_type": "markdown",
   "id": "c0bc7e78",
   "metadata": {},
   "source": [
    "# klib"
   ]
  },
  {
   "cell_type": "code",
   "execution_count": null,
   "id": "955f1150",
   "metadata": {},
   "outputs": [],
   "source": [
    "import klib\n",
    "\n",
    "# klib.describe - functions for visualizing datasets\n",
    "- klib.cat_plot(df) # returns a visualization of the number and frequency of categorical features\n",
    "- klib.corr_mat(df) # returns a color-encoded correlation matrix\n",
    "- klib.corr_plot(df) # returns a color-encoded heatmap, ideal for correlations\n",
    "- klib.dist_plot(df) # returns a distribution plot for every numeric feature\n",
    "- klib.missingval_plot(df) # returns a figure containing information about missing values\n",
    "\n",
    "# klib.clean - functions for cleaning datasets\n",
    "- klib.data_cleaning(df) # performs datacleaning (drop duplicates & empty rows/cols, adjust dtypes,...)\n",
    "- klib.clean_column_names(df) # cleans and standardizes column names, also called inside data_cleaning()\n",
    "- klib.convert_datatypes(df) # converts existing to more efficient dtypes, also called inside data_cleaning()\n",
    "- klib.drop_missing(df) # drops missing values, also called in data_cleaning()\n",
    "- klib.mv_col_handling(df) # drops features with high ratio of missing vals based on informational content\n",
    "- klib.pool_duplicate_subsets(df) # pools subset of cols based on duplicates with min. loss of information"
   ]
  }
 ],
 "metadata": {
  "kernelspec": {
   "display_name": "Python 3 (ipykernel)",
   "language": "python",
   "name": "python3"
  },
  "language_info": {
   "codemirror_mode": {
    "name": "ipython",
    "version": 3
   },
   "file_extension": ".py",
   "mimetype": "text/x-python",
   "name": "python",
   "nbconvert_exporter": "python",
   "pygments_lexer": "ipython3",
   "version": "3.9.10"
  }
 },
 "nbformat": 4,
 "nbformat_minor": 5
}
